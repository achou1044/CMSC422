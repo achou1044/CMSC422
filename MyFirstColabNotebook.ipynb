{
  "nbformat": 4,
  "nbformat_minor": 0,
  "metadata": {
    "colab": {
      "provenance": [],
      "authorship_tag": "ABX9TyNIi5fuEXjxKQbEN7VvGpsD",
      "include_colab_link": true
    },
    "kernelspec": {
      "name": "python3",
      "display_name": "Python 3"
    },
    "language_info": {
      "name": "python"
    }
  },
  "cells": [
    {
      "cell_type": "markdown",
      "metadata": {
        "id": "view-in-github",
        "colab_type": "text"
      },
      "source": [
        "<a href=\"https://colab.research.google.com/github/achou1044/CMSC422/blob/main/CMSC422_MyFirstColabNotebook.ipynb\" target=\"_parent\"><img src=\"https://colab.research.google.com/assets/colab-badge.svg\" alt=\"Open In Colab\"/></a>"
      ]
    },
    {
      "cell_type": "code",
      "execution_count": null,
      "metadata": {
        "colab": {
          "base_uri": "https://localhost:8080/"
        },
        "id": "o5oFdZgqExxh",
        "outputId": "bde6e245-42b3-43fd-ae12-7cb84bd0fef1"
      },
      "outputs": [
        {
          "output_type": "stream",
          "name": "stdout",
          "text": [
            "Tue Jan 30 20:36:05 2024\n",
            "Tue Jan 30 20:36:10 2024\n"
          ]
        }
      ],
      "source": [
        "import time\n",
        "print(time.ctime())\n",
        "time.sleep(5)\n",
        "print (time.ctime())"
      ]
    },
    {
      "cell_type": "markdown",
      "source": [
        "Markup Syntax\n",
        "\n",
        "---\n",
        "\n",
        "This is **bold**\n",
        "\n",
        "This is *italics*\n",
        "\n",
        "This is ~strikethrough~\n",
        "\n",
        "$\\sqrt{3x-1}+(1+x)^2$\n",
        "\n",
        "$e^x = \\sum_{i = 0}^\\infty \\frac{1}{i!}x^i$"
      ],
      "metadata": {
        "id": "2PBzNS-2F--v"
      }
    },
    {
      "cell_type": "markdown",
      "source": [
        "***Sample Equations***\n",
        "\n",
        "\n",
        "---\n",
        "\n",
        "\n",
        "Constraints are\n",
        "   - $3x_1 + 6x_2 + x_3 =< 28$\n",
        "   - $7x_1 + 3x_2 + 2x_3 =< 37$\n",
        "   - $4x_1 + 5x_2 + 2x_3 =< 19$\n",
        "   - $x_1,x_2,x_3 >=0 $\n",
        "\n",
        "The trial vector is calculated as follows:\n",
        "- $u_i(t) = x_i(t) + \\beta(\\hat{x}(t) − x_i(t)) + \\beta \\sum_{k = 1}^{n_v}(x_{i1,k}(t) − x_{i2,k}(t))$\n",
        "$f(x_1, x_2) = 20 + e - 20exp(-0.2 \\sqrt {\\frac {1}{n} (x_1^2 + x_2^2)}) - exp (\\frac {1}{n}(cos(2\\pi x_1) + cos(2\\pi x_2))$\n",
        "\n",
        "$x ∈ [-5, 5]$\n",
        ">$A_{m,n} =\n",
        "   \\begin{pmatrix}\n",
        "   a_{1,1} > a_{1,2} > \\cdots > a_{1,n} \\\\\n",
        "   a_{2,1} > a_{2,2} > \\cdots > a_{2,n} \\\\\n",
        "   \\vdots > \\vdots > \\ddots > \\vdots \\\\\n",
        "   a_{m,1} > a_{m,2} > \\cdots > a_{m,n}\n",
        "   \\end{pmatrix}$"
      ],
      "metadata": {
        "id": "Fn89xer3Gm8i"
      }
    },
    {
      "cell_type": "markdown",
      "source": [],
      "metadata": {
        "id": "dzJlNRdlFW2Z"
      }
    }
  ]
}
